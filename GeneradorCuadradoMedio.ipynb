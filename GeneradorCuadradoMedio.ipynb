{
  "nbformat": 4,
  "nbformat_minor": 0,
  "metadata": {
    "colab": {
      "provenance": [],
      "authorship_tag": "ABX9TyP7Xq7Kqv1Ric5PokDd3BwR",
      "include_colab_link": true
    },
    "kernelspec": {
      "name": "python3",
      "display_name": "Python 3"
    },
    "language_info": {
      "name": "python"
    }
  },
  "cells": [
    {
      "cell_type": "markdown",
      "metadata": {
        "id": "view-in-github",
        "colab_type": "text"
      },
      "source": [
        "<a href=\"https://colab.research.google.com/github/JosselynDay/SIMULACION_1/blob/main/GeneradorCuadradoMedio.ipynb\" target=\"_parent\"><img src=\"https://colab.research.google.com/assets/colab-badge.svg\" alt=\"Open In Colab\"/></a>"
      ]
    },
    {
      "cell_type": "code",
      "execution_count": 1,
      "metadata": {
        "colab": {
          "base_uri": "https://localhost:8080/"
        },
        "id": "eiC525HPanIQ",
        "outputId": "7c822af8-16c6-4898-ea4a-118be0db2376"
      },
      "outputs": [
        {
          "output_type": "stream",
          "name": "stdout",
          "text": [
            "+----+-------------+-------------------+----------------------+\n",
            "|    |   Iteración |   Número Generado |   Número Normalizado |\n",
            "+====+=============+===================+======================+\n",
            "|  0 |           1 |              9361 |               0.9361 |\n",
            "+----+-------------+-------------------+----------------------+\n",
            "|  1 |           2 |              6283 |               0.6283 |\n",
            "+----+-------------+-------------------+----------------------+\n",
            "|  2 |           3 |              4760 |               0.476  |\n",
            "+----+-------------+-------------------+----------------------+\n",
            "|  3 |           4 |              6576 |               0.6576 |\n",
            "+----+-------------+-------------------+----------------------+\n",
            "|  4 |           5 |              2437 |               0.2437 |\n",
            "+----+-------------+-------------------+----------------------+\n",
            "|  5 |           6 |              9389 |               0.9389 |\n",
            "+----+-------------+-------------------+----------------------+\n",
            "|  6 |           7 |              1533 |               0.1533 |\n",
            "+----+-------------+-------------------+----------------------+\n",
            "|  7 |           8 |              3500 |               0.35   |\n",
            "+----+-------------+-------------------+----------------------+\n",
            "|  8 |           9 |              2500 |               0.25   |\n",
            "+----+-------------+-------------------+----------------------+\n",
            "\n",
            "El ciclo de vida de la semilla 5739 es de 9 iteraciones antes de repetirse o llegar a cero.\n"
          ]
        }
      ],
      "source": [
        "\n",
        "import pandas as pd\n",
        "from tabulate import tabulate\n",
        "\n",
        "def cuadrado_medio(semilla, n):\n",
        "\n",
        "    longitud = len(str(semilla))\n",
        "    numeros = []\n",
        "\n",
        "    for _ in range(n):\n",
        "        cuadrado = str(semilla ** 2).zfill(2 * longitud)  # Elevar al cuadrado y rellenar con ceros si es necesario\n",
        "        medio = cuadrado[len(cuadrado)//2 - longitud//2 : len(cuadrado)//2 + longitud//2]  # Extraer dígitos centrales\n",
        "        semilla = int(medio)  # Nueva semilla\n",
        "        if semilla in numeros:  # Verificar si se repite (ciclo detectado)\n",
        "            break\n",
        "        numeros.append(semilla)\n",
        "\n",
        "\n",
        "    normalizados = [num / (10 ** longitud) for num in numeros]\n",
        "\n",
        "\n",
        "    df = pd.DataFrame({\"Iteración\": list(range(1, len(numeros) + 1)),\n",
        "                       \"Número Generado\": numeros,\n",
        "                       \"Número Normalizado\": normalizados})\n",
        "\n",
        "    return df\n",
        "\n",
        "# Parámetros iniciales\n",
        "semilla = 5739\n",
        "n = 25\n",
        "\n",
        "resultado = cuadrado_medio(semilla, n)\n",
        "\n",
        "# Imprimir la tabla usando tabulate\n",
        "print(tabulate(resultado, headers='keys', tablefmt='grid'))\n",
        "\n",
        "# Indicar el ciclo de vida\n",
        "print(f\"\\nEl ciclo de vida de la semilla {semilla} es de {len(resultado)} iteraciones antes de repetirse o llegar a cero.\")"
      ]
    },
    {
      "cell_type": "code",
      "source": [],
      "metadata": {
        "id": "pAHZlxmkaq58"
      },
      "execution_count": null,
      "outputs": []
    }
  ]
}