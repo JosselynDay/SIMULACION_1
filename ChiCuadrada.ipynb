{
  "nbformat": 4,
  "nbformat_minor": 0,
  "metadata": {
    "colab": {
      "provenance": [],
      "authorship_tag": "ABX9TyMnNNTwFTSZ+xw9qZWz8N/h",
      "include_colab_link": true
    },
    "kernelspec": {
      "name": "python3",
      "display_name": "Python 3"
    },
    "language_info": {
      "name": "python"
    }
  },
  "cells": [
    {
      "cell_type": "markdown",
      "metadata": {
        "id": "view-in-github",
        "colab_type": "text"
      },
      "source": [
        "<a href=\"https://colab.research.google.com/github/JosselynDay/SIMULACION_1/blob/main/ChiCuadrada.ipynb\" target=\"_parent\"><img src=\"https://colab.research.google.com/assets/colab-badge.svg\" alt=\"Open In Colab\"/></a>"
      ]
    },
    {
      "cell_type": "code",
      "execution_count": 6,
      "metadata": {
        "id": "N392xDq6qJlm"
      },
      "outputs": [],
      "source": [
        "import numpy as np\n",
        "from scipy.special import gammaincinv"
      ]
    },
    {
      "cell_type": "markdown",
      "source": [
        "Sin datos"
      ],
      "metadata": {
        "id": "utHZiKQEuHh0"
      }
    },
    {
      "cell_type": "code",
      "source": [
        "def chi2_critical_value(df, alpha=0.05):\n",
        "    return 2 * gammaincinv(df / 2, 1 - alpha)\n",
        "\n",
        "def chi_square_test(data, k=10, alpha=0.05):\n",
        "    # Calcular frecuencias\n",
        "    observed, _ = np.histogram(data, bins=k, range=(0, 1))\n",
        "\n",
        "    # Frecuencia\n",
        "    expected = len(data) / k\n",
        "\n",
        "    # Chi-Cuadrado\n",
        "    chi_squared_stat = np.sum((observed - expected) ** 2 / expected)\n",
        "\n",
        "    # Grados de libertad\n",
        "    df = k - 1\n",
        "    critical_value = chi2_critical_value(df, alpha)\n",
        "\n",
        "    # Comparar\n",
        "    if chi_squared_stat > critical_value:\n",
        "        print(\"Rechazamos la hipótesis nula.\")\n",
        "    else:\n",
        "        print(\"No podemos rechazar la hipótesis nula, números son uniformes.\")\n",
        "\n",
        "    print(f\"Estadístico Chi-Cuadrado: {chi_squared_stat}\")\n",
        "    print(f\"Valor crítico: {critical_value}\")\n",
        "\n",
        "# Generar números aleatorios\n",
        "np.random.seed(42)  # Semillita\n",
        "random_data = np.random.rand(1000)  # 1000 números aleatorios entre 0 y 1\n",
        "\n"
      ],
      "metadata": {
        "id": "Be4OOLmLuI1T"
      },
      "execution_count": 9,
      "outputs": []
    },
    {
      "cell_type": "code",
      "source": [
        "chi_square_test(random_data)"
      ],
      "metadata": {
        "colab": {
          "base_uri": "https://localhost:8080/"
        },
        "id": "jPHDfMwyukaR",
        "outputId": "a3d9bebd-e498-4be7-bc65-ef25b17747e9"
      },
      "execution_count": 10,
      "outputs": [
        {
          "output_type": "stream",
          "name": "stdout",
          "text": [
            "No podemos rechazar la hipótesis nula, números son uniformes.\n",
            "Estadístico Chi-Cuadrado: 9.4\n",
            "Valor crítico: 16.918977604620448\n"
          ]
        }
      ]
    },
    {
      "cell_type": "markdown",
      "source": [
        "Datos de clase"
      ],
      "metadata": {
        "id": "_AHEJyEIt-EL"
      }
    },
    {
      "cell_type": "code",
      "source": [
        "# Datos de la clase\n",
        "data = np.array([\n",
        "    [0.048, 0.591, 0.478, 0.166, 0.932],\n",
        "    [0.926, 0.007, 0.551, 0.362, 0.533],\n",
        "    [0.368, 0.437, 0.178, 0.411, 0.545],\n",
        "    [0.787, 0.594, 0.086, 0.951, 0.772],\n",
        "    [0.298, 0.199, 0.157, 0.401, 0.631]\n",
        "])"
      ],
      "metadata": {
        "id": "65JH0rLDr3E1"
      },
      "execution_count": 3,
      "outputs": []
    },
    {
      "cell_type": "code",
      "source": [
        "# Intervalos\n",
        "k = 10\n",
        "observed, _ = np.histogram(data, bins=k, range=(0, 1))\n",
        "\n",
        "# Frecuencia esperada\n",
        "expected = data.size / k\n",
        "\n",
        "# Chi-Cuadrado\n",
        "chi_squared_stat = np.sum((observed - expected) ** 2 / expected)\n",
        "\n",
        "# Grados de libertad\n",
        "df = k - 1\n",
        "\n",
        "print(f\"Estadístico Chi-Cuadrado: {chi_squared_stat}\")"
      ],
      "metadata": {
        "colab": {
          "base_uri": "https://localhost:8080/"
        },
        "id": "prDWcsX4r_uI",
        "outputId": "52225499-e23f-4e40-a0a5-ea4f2bf0d2ee"
      },
      "execution_count": 5,
      "outputs": [
        {
          "output_type": "stream",
          "name": "stdout",
          "text": [
            "Estadístico Chi-Cuadrado: 9.0\n"
          ]
        }
      ]
    },
    {
      "cell_type": "code",
      "source": [
        "def chi2_critical_value(df, alpha=0.05):\n",
        "    return 2 * gammaincinv(df / 2, 1 - alpha)\n",
        "\n",
        "critical_value = chi2_critical_value(df)\n",
        "\n",
        "# Comparar el estadístico con el valor crítico\n",
        "if chi_squared_stat > critical_value:\n",
        "    print(\"Rechazamos la hipótesis nula.\")\n",
        "else:\n",
        "    print(\"No podemos rechazar la hipótesis nula.\")\n",
        "\n",
        "print(f\"Estadístico Chi-Cuadrado: {chi_squared_stat}\")\n",
        "print(f\"Valor crítico: {critical_value}\")"
      ],
      "metadata": {
        "colab": {
          "base_uri": "https://localhost:8080/"
        },
        "id": "-q81XkXRu8uu",
        "outputId": "599ab60a-3443-4484-c91f-00f4a866be43"
      },
      "execution_count": 12,
      "outputs": [
        {
          "output_type": "stream",
          "name": "stdout",
          "text": [
            "No podemos rechazar la hipótesis nula.\n",
            "Estadístico Chi-Cuadrado: 9.0\n",
            "Valor crítico: 16.918977604620448\n"
          ]
        }
      ]
    }
  ]
}