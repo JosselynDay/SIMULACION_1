{
  "nbformat": 4,
  "nbformat_minor": 0,
  "metadata": {
    "colab": {
      "provenance": [],
      "authorship_tag": "ABX9TyM7exBperOFnYoFJJPbAfv/",
      "include_colab_link": true
    },
    "kernelspec": {
      "name": "python3",
      "display_name": "Python 3"
    },
    "language_info": {
      "name": "python"
    }
  },
  "cells": [
    {
      "cell_type": "markdown",
      "metadata": {
        "id": "view-in-github",
        "colab_type": "text"
      },
      "source": [
        "<a href=\"https://colab.research.google.com/github/JosselynDay/SIMULACION_1/blob/main/KS.ipynb\" target=\"_parent\"><img src=\"https://colab.research.google.com/assets/colab-badge.svg\" alt=\"Open In Colab\"/></a>"
      ]
    },
    {
      "cell_type": "code",
      "execution_count": 2,
      "metadata": {
        "id": "sOWjvxYu1WbA"
      },
      "outputs": [],
      "source": [
        "import numpy as np\n"
      ]
    },
    {
      "cell_type": "markdown",
      "source": [
        "Aleatorios"
      ],
      "metadata": {
        "id": "RTTlMK926q4l"
      }
    },
    {
      "cell_type": "code",
      "source": [
        "def ks_test(data, distribution='uniform'):\n",
        "\n",
        "    n = len(data)\n",
        "    data_sorted = np.sort(data)\n",
        "\n",
        "    # CDF\n",
        "    empirical_cdf = np.arange(1, n + 1) / n\n",
        "\n",
        "    if distribution == 'uniform':\n",
        "        theoretical_cdf = data_sorted\n",
        "\n",
        "\n",
        "    ks_statistic = np.max(np.abs(empirical_cdf - theoretical_cdf))\n",
        "\n",
        "    # ValorC\n",
        "    critical_value = 1.36 / np.sqrt(n)  #n>50\n",
        "\n",
        "    return ks_statistic, critical_value\n",
        "\n"
      ],
      "metadata": {
        "id": "2QlcWizf6ssT"
      },
      "execution_count": 5,
      "outputs": []
    },
    {
      "cell_type": "code",
      "source": [
        "np.random.seed(42)  # Semilliyta\n",
        "random_data = np.random.rand(100)  # GNumeritosaleatorios\n",
        "\n",
        "# Ejecución\n",
        "ks_statistic, critical_value = ks_test(random_data)\n",
        "\n",
        "# Resultados\n",
        "print(\"prueba de Kolmogorov-Smirnov paranums aleatorios\")\n",
        "print(f\"Estadístico de Kolmogorov-Smirnov: {ks_statistic}\")\n",
        "print(f\"Valor crítico (nivel de significancia del 5%): {critical_value}\")\n",
        "\n",
        "# Interpretación\n",
        "if ks_statistic > critical_value:\n",
        "    print(\"Rechazamos la hipótesis nula\")\n",
        "else:\n",
        "    print(\"No podemos rechazar la hipótesis nula\")"
      ],
      "metadata": {
        "colab": {
          "base_uri": "https://localhost:8080/"
        },
        "id": "8cMbvtSY7WfS",
        "outputId": "80586591-f057-4bf9-bcac-ac25cd4110f3"
      },
      "execution_count": 7,
      "outputs": [
        {
          "output_type": "stream",
          "name": "stdout",
          "text": [
            "prueba de Kolmogorov-Smirnov paranums aleatorios\n",
            "Estadístico de Kolmogorov-Smirnov: 0.08032621784164029\n",
            "Valor crítico (nivel de significancia del 5%): 0.136\n",
            "No podemos rechazar la hipótesis nula\n"
          ]
        }
      ]
    },
    {
      "cell_type": "markdown",
      "source": [
        "Datos clase"
      ],
      "metadata": {
        "id": "iUF4Qi1z5puf"
      }
    },
    {
      "cell_type": "code",
      "source": [
        "def ks_test(data, distribution='uniform'):\n",
        "    n = len(data)\n",
        "    data_sorted = np.sort(data)\n",
        "\n",
        "    # CDF\n",
        "    empirical_cdf = np.arange(1, n + 1) / n\n",
        "\n",
        "\n",
        "    if distribution == 'uniform':\n",
        "        theoretical_cdf = data_sorted\n",
        "    ks_statistic = np.max(np.abs(empirical_cdf - theoretical_cdf))\n",
        "\n",
        "    # Valor crítico\n",
        "    critical_value = 1.36 / np.sqrt(n)  # n>50\n",
        "\n",
        "    return ks_statistic, critical_value\n",
        "\n",
        "# Datos de la clase\n",
        "data = np.array([\n",
        "    0.048, 0.591, 0.478, 0.166, 0.932,\n",
        "    0.926, 0.007, 0.551, 0.362, 0.533,\n",
        "    0.368, 0.437, 0.178, 0.411, 0.545,\n",
        "    0.787, 0.594, 0.086, 0.951, 0.772,\n",
        "    0.298, 0.199, 0.157, 0.401, 0.631\n",
        "])\n",
        "\n",
        "# Ejecucion\n",
        "ks_statistic, critical_value = ks_test(data)\n",
        "\n",
        "# Imprimir\n",
        "print(f\"Estadístico de Kolmogorov-Smirnov: {ks_statistic}\")\n",
        "print(f\"Valor crítico (nivel de significancia del 5%): {critical_value}\")\n",
        "\n",
        "# Interpretación\n",
        "if ks_statistic > critical_value:\n",
        "    print(\"Rechazamos la hipótesis nula\")\n",
        "else:\n",
        "    print(\"No podemos rechazar la hipótesis nula\")"
      ],
      "metadata": {
        "colab": {
          "base_uri": "https://localhost:8080/"
        },
        "id": "Qos0L7FG3m9u",
        "outputId": "646f7c18-c6b3-480f-9c8a-0af8ee714a97"
      },
      "execution_count": 4,
      "outputs": [
        {
          "output_type": "stream",
          "name": "stdout",
          "text": [
            "Estadístico de Kolmogorov-Smirnov: 0.16900000000000004\n",
            "Valor crítico (nivel de significancia del 5%): 0.272\n",
            "No podemos rechazar la hipótesis nula\n"
          ]
        }
      ]
    }
  ]
}